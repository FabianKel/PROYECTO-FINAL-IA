{
 "cells": [
  {
   "cell_type": "markdown",
   "id": "1af04ede",
   "metadata": {},
   "source": [
    "## **SVM**"
   ]
  },
  {
   "cell_type": "markdown",
   "id": "b48e6aad",
   "metadata": {},
   "source": [
    "## **KNN**"
   ]
  },
  {
   "cell_type": "markdown",
   "id": "26ed3806",
   "metadata": {},
   "source": [
    "## **Redes Neuronales**"
   ]
  }
 ],
 "metadata": {
  "language_info": {
   "name": "python"
  }
 },
 "nbformat": 4,
 "nbformat_minor": 5
}
