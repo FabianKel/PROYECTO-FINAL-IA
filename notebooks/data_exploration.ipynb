{
 "cells": [
  {
   "cell_type": "markdown",
   "id": "328405dd",
   "metadata": {},
   "source": [
    "### Importar librerías"
   ]
  },
  {
   "cell_type": "code",
   "execution_count": 1,
   "id": "a2c5e303",
   "metadata": {},
   "outputs": [],
   "source": [
    "import pandas as pd\n",
    "import matplotlib.pyplot as plt\n",
    "import seaborn as sns"
   ]
  },
  {
   "cell_type": "markdown",
   "id": "812040d8",
   "metadata": {},
   "source": [
    "### Cargar los datasets sin procesar"
   ]
  },
  {
   "cell_type": "code",
   "execution_count": null,
   "id": "9f2286d4",
   "metadata": {},
   "outputs": [],
   "source": [
    "data_30 = pd.read_csv(\"data/features_data_30.csv\")\n",
    "data_3 = pd.read_csv(\"data/features_data_3.csv\")"
   ]
  }
 ],
 "metadata": {
  "kernelspec": {
   "display_name": "Python 3",
   "language": "python",
   "name": "python3"
  },
  "language_info": {
   "codemirror_mode": {
    "name": "ipython",
    "version": 3
   },
   "file_extension": ".py",
   "mimetype": "text/x-python",
   "name": "python",
   "nbconvert_exporter": "python",
   "pygments_lexer": "ipython3",
   "version": "3.10.11"
  }
 },
 "nbformat": 4,
 "nbformat_minor": 5
}
