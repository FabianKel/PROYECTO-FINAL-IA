{
 "cells": [
  {
   "cell_type": "markdown",
   "id": "d0ecc746",
   "metadata": {},
   "source": [
    "## Extraer features de los modelos"
   ]
  },
  {
   "cell_type": "code",
   "execution_count": null,
   "id": "d680ec9e",
   "metadata": {},
   "outputs": [],
   "source": [
    "import numpy as np\n",
    "import librosa\n",
    "import warnings\n",
    "import pandas as pd\n",
    "import os\n",
    "\n",
    "# Ignorar advertencias específicas de librosa\n",
    "warnings.filterwarnings('ignore', category=UserWarning)\n",
    "\n",
    "def extract_important_features(file_path, offset=None, duration=None):\n",
    "    # Cargar el archivo de audio\n",
    "    y, sr = librosa.load(file_path, sr=None, offset=offset, duration=duration)\n",
    "    S = librosa.stft(y)\n",
    "    chroma_stft = librosa.feature.chroma_stft(y=y, sr=sr)\n",
    "    chroma_stft_mean = np.mean(chroma_stft)\n",
    "    chroma_stft_var = np.var(chroma_stft)\n",
    "    rms = librosa.feature.rms(y=y)\n",
    "    rms_mean = np.mean(rms)\n",
    "    rms_var = np.var(rms)\n",
    "    spec_centroid = librosa.feature.spectral_centroid(y=y, sr=sr)\n",
    "    spectral_centroid_mean = np.mean(spec_centroid)\n",
    "    spectral_centroid_var = np.var(spec_centroid)\n",
    "    spec_bw = librosa.feature.spectral_bandwidth(y=y, sr=sr)\n",
    "    spectral_bandwidth_mean = np.mean(spec_bw)\n",
    "    spectral_bandwidth_var = np.var(spec_bw)\n",
    "    rolloff = librosa.feature.spectral_rolloff(y=y, sr=sr)\n",
    "    rolloff_mean = np.mean(rolloff)\n",
    "    rolloff_var = np.var(rolloff)\n",
    "    zcr = librosa.feature.zero_crossing_rate(y)\n",
    "    zero_crossing_rate_mean = np.mean(zcr)\n",
    "    zero_crossing_rate_var = np.var(zcr)\n",
    "    harmony = librosa.effects.harmonic(y)\n",
    "    harmony_mean = np.mean(harmony)\n",
    "    harmony_var = np.var(harmony)\n",
    "    perceptr = librosa.feature.melspectrogram(y=y, sr=sr)\n",
    "    perceptr_mean = np.mean(librosa.power_to_db(perceptr, ref=np.max))\n",
    "    perceptr_var = np.var(librosa.power_to_db(perceptr, ref=np.max))\n",
    "    tempo, _ = librosa.beat.beat_track(y=y, sr=sr)\n",
    "    mfccs = librosa.feature.mfcc(y=y, sr=sr, n_mfcc=20)\n",
    "    mfcc_means = [np.mean(m) for m in mfccs]\n",
    "    mfcc_vars = [np.var(m) for m in mfccs]\n",
    "\n",
    "\n",
    "    features = {\n",
    "        'song_title': os.path.basename(file_path),\n",
    "        'chroma_stft_mean': chroma_stft_mean,\n",
    "        'chroma_stft_var': chroma_stft_var,\n",
    "        'rms_mean': rms_mean,\n",
    "        'rms_var': rms_var,\n",
    "        'spectral_centroid_mean': spectral_centroid_mean,\n",
    "        'spectral_centroid_var': spectral_centroid_var,\n",
    "        'spectral_bandwidth_mean': spectral_bandwidth_mean,\n",
    "        'spectral_bandwidth_var': spectral_bandwidth_var,\n",
    "        'rolloff_mean': rolloff_mean,\n",
    "        'rolloff_var': rolloff_var,\n",
    "        'zero_crossing_rate_mean': zero_crossing_rate_mean,\n",
    "        'zero_crossing_rate_var': zero_crossing_rate_var,\n",
    "        'harmony_mean': harmony_mean,\n",
    "        'harmony_var': harmony_var,\n",
    "        'perceptr_mean': perceptr_mean,\n",
    "        'perceptr_var': perceptr_var,\n",
    "        'tempo': tempo,\n",
    "    }\n",
    "    # Agregar MFCCs\n",
    "    for i in range(20):\n",
    "        features[f'mfcc{i+1}_mean'] = mfcc_means[i]\n",
    "        features[f'mfcc{i+1}_var'] = mfcc_vars[i]\n",
    "\n",
    "    # Guardar las features para comprobar los valores\n",
    "    # df = pd.DataFrame([features])\n",
    "    # df.to_csv('features.csv', index=False)\n",
    "\n",
    "    return features"
   ]
  },
  {
   "cell_type": "markdown",
   "id": "c657f192",
   "metadata": {},
   "source": [
    "## Generar spectograma de cada canción"
   ]
  },
  {
   "cell_type": "code",
   "execution_count": null,
   "id": "d7524757",
   "metadata": {},
   "outputs": [],
   "source": [
    "import matplotlib.pyplot as plt\n",
    "import librosa.display\n",
    "\n",
    "def save_spectrogram(file_path, genre, output_base=\"../data/spectrograms\"):\n",
    "    try:\n",
    "        y, sr = librosa.load(file_path, sr=None)\n",
    "        S = librosa.feature.melspectrogram(y=y, sr=sr)\n",
    "        S_dB = librosa.power_to_db(S, ref=np.max)\n",
    "\n",
    "        # Crear la carpeta si no existe\n",
    "        output_dir = os.path.join(output_base, genre)\n",
    "        os.makedirs(output_dir, exist_ok=True)\n",
    "\n",
    "        # Nombre del archivo de salida\n",
    "        file_name = os.path.splitext(os.path.basename(file_path))[0] + \".png\"\n",
    "        output_path = os.path.join(output_dir, file_name)\n",
    "\n",
    "        # Guardar espectrograma\n",
    "        plt.figure(figsize=(10, 4))\n",
    "        librosa.display.specshow(S_dB, sr=sr, x_axis='time', y_axis='mel')\n",
    "        plt.axis('off')  # sin ejes\n",
    "        plt.tight_layout()\n",
    "        plt.savefig(output_path, bbox_inches='tight', pad_inches=0)\n",
    "        plt.close()\n",
    "    except Exception as e:\n",
    "        print(f\"Error al generar espectrograma de {file_path}: {e}\")\n"
   ]
  },
  {
   "cell_type": "code",
   "execution_count": null,
   "id": "7330f9ec",
   "metadata": {},
   "outputs": [
    {
     "name": "stdout",
     "output_type": "stream",
     "text": [
      "Procesando género: blues\n"
     ]
    },
    {
     "name": "stderr",
     "output_type": "stream",
     "text": [
      "100%|██████████| 100/100 [06:59<00:00,  4.19s/it]\n"
     ]
    },
    {
     "name": "stdout",
     "output_type": "stream",
     "text": [
      "Procesando género: classical\n"
     ]
    },
    {
     "name": "stderr",
     "output_type": "stream",
     "text": [
      "100%|██████████| 100/100 [09:26<00:00,  5.67s/it]\n"
     ]
    },
    {
     "name": "stdout",
     "output_type": "stream",
     "text": [
      "Procesando género: country\n"
     ]
    },
    {
     "name": "stderr",
     "output_type": "stream",
     "text": [
      "100%|██████████| 100/100 [07:48<00:00,  4.69s/it]\n"
     ]
    },
    {
     "name": "stdout",
     "output_type": "stream",
     "text": [
      "Procesando género: disco\n"
     ]
    },
    {
     "name": "stderr",
     "output_type": "stream",
     "text": [
      "100%|██████████| 100/100 [12:25<00:00,  7.46s/it]\n"
     ]
    },
    {
     "name": "stdout",
     "output_type": "stream",
     "text": [
      "Procesando género: hiphop\n"
     ]
    },
    {
     "name": "stderr",
     "output_type": "stream",
     "text": [
      "100%|██████████| 100/100 [07:04<00:00,  4.24s/it]\n"
     ]
    },
    {
     "name": "stdout",
     "output_type": "stream",
     "text": [
      "Procesando género: jazz\n"
     ]
    },
    {
     "name": "stderr",
     "output_type": "stream",
     "text": [
      " 54%|█████▍    | 54/100 [03:57<03:10,  4.14s/it]C:\\Users\\drkfa\\AppData\\Roaming\\Python\\Python313\\site-packages\\librosa\\core\\audio.py:184: FutureWarning: librosa.core.audio.__audioread_load\n",
      "\tDeprecated as of librosa version 0.10.0.\n",
      "\tIt will be removed in librosa version 1.0.\n",
      "  y, sr_native = __audioread_load(path, offset, duration, dtype)\n"
     ]
    },
    {
     "name": "stdout",
     "output_type": "stream",
     "text": [
      "Error en ../data/music\\jazz\\jazz.00054.wav (30s): \n",
      "Error en ../data/music\\jazz\\jazz.00054.wav (3s offset 0): \n",
      "Error en ../data/music\\jazz\\jazz.00054.wav (3s offset 3): \n",
      "Error en ../data/music\\jazz\\jazz.00054.wav (3s offset 6): \n",
      "Error en ../data/music\\jazz\\jazz.00054.wav (3s offset 9): \n",
      "Error en ../data/music\\jazz\\jazz.00054.wav (3s offset 12): \n",
      "Error en ../data/music\\jazz\\jazz.00054.wav (3s offset 15): \n",
      "Error en ../data/music\\jazz\\jazz.00054.wav (3s offset 18): \n",
      "Error en ../data/music\\jazz\\jazz.00054.wav (3s offset 21): \n",
      "Error en ../data/music\\jazz\\jazz.00054.wav (3s offset 24): \n",
      "Error en ../data/music\\jazz\\jazz.00054.wav (3s offset 27): \n"
     ]
    },
    {
     "name": "stderr",
     "output_type": "stream",
     "text": [
      "100%|██████████| 100/100 [07:07<00:00,  4.27s/it]\n"
     ]
    },
    {
     "name": "stdout",
     "output_type": "stream",
     "text": [
      "Procesando género: metal\n"
     ]
    },
    {
     "name": "stderr",
     "output_type": "stream",
     "text": [
      "100%|██████████| 100/100 [07:17<00:00,  4.38s/it]\n"
     ]
    },
    {
     "name": "stdout",
     "output_type": "stream",
     "text": [
      "Procesando género: pop\n"
     ]
    },
    {
     "name": "stderr",
     "output_type": "stream",
     "text": [
      "100%|██████████| 100/100 [07:39<00:00,  4.59s/it]\n"
     ]
    },
    {
     "name": "stdout",
     "output_type": "stream",
     "text": [
      "Procesando género: reggae\n"
     ]
    },
    {
     "name": "stderr",
     "output_type": "stream",
     "text": [
      "100%|██████████| 100/100 [07:00<00:00,  4.20s/it]\n"
     ]
    },
    {
     "name": "stdout",
     "output_type": "stream",
     "text": [
      "Procesando género: rock\n"
     ]
    },
    {
     "name": "stderr",
     "output_type": "stream",
     "text": [
      "100%|██████████| 100/100 [07:01<00:00,  4.22s/it]\n"
     ]
    },
    {
     "name": "stdout",
     "output_type": "stream",
     "text": [
      "¡Listo! Se guardaron los CSV.\n"
     ]
    }
   ],
   "source": [
    "import os\n",
    "import pandas as pd\n",
    "from tqdm import tqdm\n",
    "\n",
    "BASE_DIR = \"../data/music\"\n",
    "\n",
    "features_30_sec = []\n",
    "features_3_sec = []\n",
    "\n",
    "# Se recorre cada género\n",
    "for genre in os.listdir(BASE_DIR):\n",
    "    genre_path = os.path.join(BASE_DIR, genre)\n",
    "    if not os.path.isdir(genre_path):\n",
    "        continue\n",
    "\n",
    "    print(f\"Procesando género: {genre}\")\n",
    "    for file in tqdm(os.listdir(genre_path)):\n",
    "        if not file.endswith(\".wav\"):\n",
    "            continue\n",
    "\n",
    "        file_path = os.path.join(genre_path, file)\n",
    "\n",
    "        # --- Features para canción completa ---\n",
    "        try:\n",
    "            f_full = extract_important_features(file_path)\n",
    "            f_full[\"genre\"] = genre\n",
    "            features_30_sec.append(f_full)\n",
    "            save_spectrogram(file_path, genre)\n",
    "            \n",
    "        except Exception as e:\n",
    "            print(f\"Error en {file_path} (30s):\", e)\n",
    "\n",
    "        # --- Features para segmentos de 3s ---\n",
    "        for i in range(10):\n",
    "            try:\n",
    "                f_seg = extract_important_features(file_path, offset=i*3, duration=3)\n",
    "                f_seg[\"genre\"] = genre\n",
    "                f_seg[\"segment\"] = i  # opcional\n",
    "                features_3_sec.append(f_seg)\n",
    "            except Exception as e:\n",
    "                print(f\"Error en {file_path} (3s offset {i*3}):\", e)\n",
    "\n",
    "# Guardamos los CSV\n",
    "df_full = pd.DataFrame(features_30_sec)\n",
    "df_full.to_csv(\"../data/raw/actual_features_30_sec.csv\", index=False)\n",
    "\n",
    "df_segments = pd.DataFrame(features_3_sec)\n",
    "df_segments.to_csv(\"../data/raw/actual_features_3_sec.csv\", index=False)\n",
    "\n",
    "print(\"Archivos CSV y espectrogramas guardados correctamente.\")\n"
   ]
  },
  {
   "cell_type": "markdown",
   "id": "38ee9d21",
   "metadata": {},
   "source": [
    "Se extrayeron hasta 60 features del dataset de canciones de 30 segundos, las cuáles están clasificadas en 10 géneros:\n",
    "- **blues**\n",
    "- **classical**\n",
    "- **country**\n",
    "- **disco**\n",
    "- **hiphop**\n",
    "- **jazz**\n",
    "- **metal**\n",
    "- **pop**\n",
    "- **reggae**\n",
    "- **rock**"
   ]
  },
  {
   "cell_type": "markdown",
   "id": "65d350c1",
   "metadata": {},
   "source": [
    "Se generaron los siguientes archivos:\n",
    "\n",
    "- **[actual_features_30_sec.csv](actual_features_30_sec.csv)**:\n",
    "    - Contienen un total de 59 columnas y 100 filas de cada género.\n",
    "- **[actual_features_3_sec.csv](actual_features_3_sec.csv)**:\n",
    "    - Contienen un total de 60 columnas y 1000 filas de cada género.\n",
    "    - Se agregó una columna `segment` que indica la parte de la canción a la que corresponde cada fila.\n",
    "    - Para obtener más filas, se dividieron las canciones en 10 partes de 3 segundos cada una.\n",
    "- **[spectrograms/\\*/\\*.png](spectrograms/actual_features_30_sec.csv)**\n",
    "    - Organizado en carpetas por género, se encuentran los espectrogramas de las 1000 canciones originales."
   ]
  }
 ],
 "metadata": {
  "language_info": {
   "name": "python"
  }
 },
 "nbformat": 4,
 "nbformat_minor": 5
}
